{
 "cells": [
  {
   "cell_type": "code",
   "execution_count": 1,
   "metadata": {
    "collapsed": true
   },
   "outputs": [],
   "source": [
    "import findspark\n",
    "\n",
    "findspark.init()"
   ]
  },
  {
   "cell_type": "code",
   "execution_count": 2,
   "outputs": [
    {
     "data": {
      "text/plain": "True"
     },
     "execution_count": 2,
     "metadata": {},
     "output_type": "execute_result"
    }
   ],
   "source": [
    "from dotenv import load_dotenv\n",
    "\n",
    "load_dotenv()"
   ],
   "metadata": {
    "collapsed": false
   }
  },
  {
   "cell_type": "code",
   "execution_count": 3,
   "outputs": [],
   "source": [
    "import pyspark as ps\n",
    "from pyspark.sql import SparkSession\n",
    "from pyspark.sql.functions import col, count, sum, when\n",
    "import os"
   ],
   "metadata": {
    "collapsed": false
   }
  },
  {
   "cell_type": "code",
   "execution_count": 4,
   "outputs": [],
   "source": [
    "postgresql_user = os.getenv('POSTGRESQL_USER')\n",
    "postgresql_password = os.getenv('POSTGRESQL_PASSWORD')\n",
    "spark_home = os.getenv('SPARK_HOME')"
   ],
   "metadata": {
    "collapsed": false
   }
  },
  {
   "cell_type": "code",
   "execution_count": 5,
   "outputs": [
    {
     "name": "stdout",
     "output_type": "stream",
     "text": [
      "22/12/24 02:15:21 WARN Utils: Your hostname, archlinux resolves to a loopback address: 127.0.1.1; using 192.168.0.109 instead (on interface wlp0s20f3)\n",
      "22/12/24 02:15:21 WARN Utils: Set SPARK_LOCAL_IP if you need to bind to another address\n",
      "22/12/24 02:15:22 WARN NativeCodeLoader: Unable to load native-hadoop library for your platform... using builtin-java classes where applicable\n"
     ]
    },
    {
     "name": "stderr",
     "output_type": "stream",
     "text": [
      "Setting default log level to \"WARN\".\n",
      "To adjust logging level use sc.setLogLevel(newLevel). For SparkR, use setLogLevel(newLevel).\n"
     ]
    }
   ],
   "source": [
    "spark = SparkSession.builder \\\n",
    "    .config('spark.jars', f\"{spark_home}/jars/postgresql-42.5.1.jar\") \\\n",
    "    .master('local[*]') \\\n",
    "    .appName('pagila-queries') \\\n",
    "    .getOrCreate()"
   ],
   "metadata": {
    "collapsed": false
   }
  },
  {
   "cell_type": "code",
   "execution_count": 6,
   "outputs": [],
   "source": [
    "data_frame_reader = spark.read \\\n",
    "    .format('jdbc') \\\n",
    "    .option('driver', 'org.postgresql.Driver') \\\n",
    "    .option('url', 'jdbc:postgresql://localhost:5432/postgres') \\\n",
    "    .option('user', postgresql_user) \\\n",
    "    .option('password', postgresql_password)"
   ],
   "metadata": {
    "collapsed": false
   }
  },
  {
   "cell_type": "code",
   "execution_count": 7,
   "outputs": [],
   "source": [
    "def read_table(table_name: str) -> ps.sql.DataFrame:\n",
    "    return data_frame_reader.option('dbtable', table_name).load()"
   ],
   "metadata": {
    "collapsed": false
   }
  },
  {
   "cell_type": "code",
   "execution_count": 8,
   "outputs": [],
   "source": [
    "actor = read_table('actor')\n",
    "address = read_table('address')\n",
    "category = read_table('category')\n",
    "city = read_table('city')\n",
    "country = read_table('country')\n",
    "customer = read_table('customer')\n",
    "film = read_table('film')\n",
    "film_actor = read_table('film_actor')\n",
    "film_category = read_table('film_category')\n",
    "inventory = read_table('inventory')\n",
    "language = read_table('language')\n",
    "payment = read_table('payment')\n",
    "rental = read_table('rental')\n",
    "staff = read_table('staff')\n",
    "store = read_table('store')"
   ],
   "metadata": {
    "collapsed": false
   }
  },
  {
   "cell_type": "code",
   "execution_count": 9,
   "outputs": [],
   "source": [
    "first = category \\\n",
    "    .join(film_category, on='category_id', how='left') \\\n",
    "    .groupby('category_id', 'name') \\\n",
    "    .agg(count('film_id').alias('number_of_films')) \\\n",
    "    .select('category_id', 'name', 'number_of_films') \\\n",
    "    .orderBy(col('number_of_films').desc())"
   ],
   "metadata": {
    "collapsed": false
   }
  },
  {
   "cell_type": "code",
   "execution_count": 10,
   "outputs": [
    {
     "name": "stdout",
     "output_type": "stream",
     "text": [
      "+-----------+-----------+---------------+\n",
      "|category_id|name       |number_of_films|\n",
      "+-----------+-----------+---------------+\n",
      "|15         |Sports     |74             |\n",
      "|9          |Foreign    |73             |\n",
      "|8          |Family     |69             |\n",
      "|6          |Documentary|68             |\n",
      "|2          |Animation  |66             |\n",
      "|1          |Action     |64             |\n",
      "|13         |New        |63             |\n",
      "|7          |Drama      |62             |\n",
      "|10         |Games      |61             |\n",
      "|14         |Sci-Fi     |61             |\n",
      "|3          |Children   |60             |\n",
      "|5          |Comedy     |58             |\n",
      "|16         |Travel     |57             |\n",
      "|4          |Classics   |57             |\n",
      "|11         |Horror     |56             |\n",
      "|12         |Music      |51             |\n",
      "+-----------+-----------+---------------+\n",
      "\n"
     ]
    }
   ],
   "source": [
    "first.show(truncate=False)"
   ],
   "metadata": {
    "collapsed": false
   }
  },
  {
   "cell_type": "code",
   "execution_count": 11,
   "outputs": [],
   "source": [
    "second = actor \\\n",
    "    .join(film_actor, on='actor_id') \\\n",
    "    .join(film, on='film_id') \\\n",
    "    .groupby('actor_id', 'first_name', 'last_name') \\\n",
    "    .agg(sum('rental_duration').alias('sum_of_rental_duration')) \\\n",
    "    .select('actor_id', 'first_name', 'last_name', 'sum_of_rental_duration') \\\n",
    "    .orderBy(col('sum_of_rental_duration').desc()) \\\n",
    "    .limit(10)"
   ],
   "metadata": {
    "collapsed": false
   }
  },
  {
   "cell_type": "code",
   "execution_count": 12,
   "outputs": [
    {
     "name": "stdout",
     "output_type": "stream",
     "text": [
      "+--------+----------+---------+----------------------+\n",
      "|actor_id|first_name|last_name|sum_of_rental_duration|\n",
      "+--------+----------+---------+----------------------+\n",
      "|107     |GINA      |DEGENERES|209                   |\n",
      "|102     |WALTER    |TORN     |201                   |\n",
      "|198     |MARY      |KEITEL   |192                   |\n",
      "|181     |MATTHEW   |CARREY   |190                   |\n",
      "|65      |ANGELA    |HUDSON   |183                   |\n",
      "|106     |GROUCHO   |DUNST    |183                   |\n",
      "|23      |SANDRA    |KILMER   |181                   |\n",
      "|60      |HENRY     |BERRY    |180                   |\n",
      "|13      |UMA       |WOOD     |179                   |\n",
      "|119     |WARREN    |JACKMAN  |178                   |\n",
      "+--------+----------+---------+----------------------+\n",
      "\n"
     ]
    }
   ],
   "source": [
    "second.show(truncate=False)"
   ],
   "metadata": {
    "collapsed": false
   }
  },
  {
   "cell_type": "code",
   "execution_count": 13,
   "outputs": [],
   "source": [
    "third = category \\\n",
    "    .join(film_category, on='category_id') \\\n",
    "    .join(film, on='film_id') \\\n",
    "    .groupby('category_id', 'name') \\\n",
    "    .agg(sum('replacement_cost').alias('sum_of_replacement_cost')) \\\n",
    "    .select('category_id', 'name', 'sum_of_replacement_cost') \\\n",
    "    .orderBy(col('sum_of_replacement_cost').desc()) \\\n",
    "    .limit(1)"
   ],
   "metadata": {
    "collapsed": false
   }
  },
  {
   "cell_type": "code",
   "execution_count": 14,
   "outputs": [
    {
     "name": "stdout",
     "output_type": "stream",
     "text": [
      "+-----------+------+-----------------------+\n",
      "|category_id|name  |sum_of_replacement_cost|\n",
      "+-----------+------+-----------------------+\n",
      "|15         |Sports|1509.26                |\n",
      "+-----------+------+-----------------------+\n",
      "\n"
     ]
    }
   ],
   "source": [
    "third.show(truncate=False)"
   ],
   "metadata": {
    "collapsed": false
   }
  },
  {
   "cell_type": "code",
   "execution_count": 15,
   "outputs": [],
   "source": [
    "fourth = film \\\n",
    "    .join(inventory, on='film_id', how='leftanti') \\\n",
    "    .select('film_id', 'title')"
   ],
   "metadata": {
    "collapsed": false
   }
  },
  {
   "cell_type": "code",
   "execution_count": 16,
   "outputs": [
    {
     "name": "stdout",
     "output_type": "stream",
     "text": [
      "+-------+---------------------+\n",
      "|film_id|title                |\n",
      "+-------+---------------------+\n",
      "|148    |CHOCOLATE DUCK       |\n",
      "|108    |BUTCH PANTHER        |\n",
      "|950    |VOLUME HOUSE         |\n",
      "|642    |ORDER BETRAYED       |\n",
      "|874    |TADPOLE PARK         |\n",
      "|497    |KILL BROTHERHOOD     |\n",
      "|332    |FRANKENSTEIN STRANGER|\n",
      "|192    |CROSSING DIVORCE     |\n",
      "|860    |SUICIDES SILENCE     |\n",
      "|128    |CATCH AMISTAD        |\n",
      "|671    |PERDITION FARGO      |\n",
      "|325    |FLOATS GARDEN        |\n",
      "|386    |GUMP DATE            |\n",
      "|955    |WALLS ARTIST         |\n",
      "|359    |GLADIATOR WESTWARD   |\n",
      "|419    |HOCUS FRIDA          |\n",
      "|41     |ARSENIC INDEPENDENCE |\n",
      "|607    |MUPPET MILE          |\n",
      "|318    |FIREHOUSE VIETNAM    |\n",
      "|742    |ROOF CHAMPION        |\n",
      "+-------+---------------------+\n",
      "only showing top 20 rows\n",
      "\n"
     ]
    }
   ],
   "source": [
    "fourth.show(truncate=False)"
   ],
   "metadata": {
    "collapsed": false
   }
  },
  {
   "cell_type": "code",
   "execution_count": 17,
   "outputs": [],
   "source": [
    "actors_with_number_of_children_films = actor \\\n",
    "    .join(film_actor, on='actor_id') \\\n",
    "    .join(film, on='film_id') \\\n",
    "    .join(film_category, on='film_id') \\\n",
    "    .join(category, on='category_id') \\\n",
    "    .where(col('name') == 'Children') \\\n",
    "    .groupby('actor_id', 'first_name', 'last_name') \\\n",
    "    .agg(count('film_id').alias('number_of_children_films')) \\\n",
    "    .select('actor_id', 'first_name', 'last_name', 'number_of_children_films')"
   ],
   "metadata": {
    "collapsed": false
   }
  },
  {
   "cell_type": "code",
   "execution_count": 18,
   "outputs": [],
   "source": [
    "top_3_distinct_numbers_of_children_films = actors_with_number_of_children_films \\\n",
    "    .select(col('number_of_children_films')) \\\n",
    "    .distinct() \\\n",
    "    .orderBy(col('number_of_children_films').desc()) \\\n",
    "    .limit(3)"
   ],
   "metadata": {
    "collapsed": false
   }
  },
  {
   "cell_type": "code",
   "execution_count": 19,
   "outputs": [],
   "source": [
    "fifth = actors_with_number_of_children_films \\\n",
    "    .join(top_3_distinct_numbers_of_children_films, on='number_of_children_films', how='semi') \\\n",
    "    .select('actor_id', 'first_name', 'last_name', 'number_of_children_films') \\\n",
    "    .orderBy(col('number_of_children_films').desc())"
   ],
   "metadata": {
    "collapsed": false
   }
  },
  {
   "cell_type": "code",
   "execution_count": 20,
   "outputs": [
    {
     "name": "stdout",
     "output_type": "stream",
     "text": [
      "+--------+----------+---------+------------------------+\n",
      "|actor_id|first_name|last_name|number_of_children_films|\n",
      "+--------+----------+---------+------------------------+\n",
      "|17      |HELEN     |VOIGHT   |7                       |\n",
      "|140     |WHOOPI    |HURT     |5                       |\n",
      "|80      |RALPH     |CRUZ     |5                       |\n",
      "|127     |KEVIN     |GARLAND  |5                       |\n",
      "|66      |MARY      |TANDY    |5                       |\n",
      "|81      |SCARLETT  |DAMON    |4                       |\n",
      "|23      |SANDRA    |KILMER   |4                       |\n",
      "|109     |SYLVESTER |DERN     |4                       |\n",
      "|187     |RENEE     |BALL     |4                       |\n",
      "|92      |KIRSTEN   |AKROYD   |4                       |\n",
      "|101     |SUSAN     |DAVIS    |4                       |\n",
      "|13      |UMA       |WOOD     |4                       |\n",
      "|58      |CHRISTIAN |AKROYD   |4                       |\n",
      "|93      |ELLEN     |PRESLEY  |4                       |\n",
      "|173     |ALAN      |DREYFUSS |4                       |\n",
      "|150     |JAYNE     |NOLTE    |4                       |\n",
      "|131     |JANE      |JACKMAN  |4                       |\n",
      "|142     |JADA      |RYDER    |4                       |\n",
      "|37      |VAL       |BOLGER   |4                       |\n",
      "+--------+----------+---------+------------------------+\n",
      "\n"
     ]
    }
   ],
   "source": [
    "fifth.show(truncate=False)"
   ],
   "metadata": {
    "collapsed": false
   }
  },
  {
   "cell_type": "code",
   "execution_count": 21,
   "outputs": [],
   "source": [
    "count_filter = lambda condition: sum(when(condition, 1).otherwise(0))"
   ],
   "metadata": {
    "collapsed": false
   }
  },
  {
   "cell_type": "code",
   "execution_count": 22,
   "outputs": [],
   "source": [
    "sixth = city \\\n",
    "    .join(address, on='city_id') \\\n",
    "    .join(customer, on='address_id') \\\n",
    "    .groupby('city_id', 'city') \\\n",
    "    .agg(count_filter(col('activebool') == True).alias('number_of_active_customers'),\n",
    "         count_filter(col('activebool') == False).alias('number_of_inactive_customers')) \\\n",
    "    .select('city_id', 'city', 'number_of_active_customers', 'number_of_inactive_customers') \\\n",
    "    .orderBy(col('number_of_inactive_customers').desc())"
   ],
   "metadata": {
    "collapsed": false
   }
  },
  {
   "cell_type": "code",
   "execution_count": 23,
   "outputs": [
    {
     "name": "stdout",
     "output_type": "stream",
     "text": [
      "+-------+-----------------------+--------------------------+----------------------------+\n",
      "|city_id|city                   |number_of_active_customers|number_of_inactive_customers|\n",
      "+-------+-----------------------+--------------------------+----------------------------+\n",
      "|463    |Sasebo                 |1                         |0                           |\n",
      "|148    |Duisburg               |1                         |0                           |\n",
      "|471    |Shenzhen               |1                         |0                           |\n",
      "|496    |Southport              |1                         |0                           |\n",
      "|243    |Jodhpur                |1                         |0                           |\n",
      "|392    |Paarl                  |1                         |0                           |\n",
      "|540    |Tongliao               |1                         |0                           |\n",
      "|31     |Arak                   |1                         |0                           |\n",
      "|516    |Tafuna                 |1                         |0                           |\n",
      "|85     |Boksburg               |1                         |0                           |\n",
      "|251    |Kabul                  |1                         |0                           |\n",
      "|451    |San Felipe del Progreso|1                         |0                           |\n",
      "|137    |Daugavpils             |1                         |0                           |\n",
      "|580    |Xintai                 |1                         |0                           |\n",
      "|65     |Bellevue               |1                         |0                           |\n",
      "|458    |Santa Rosa             |1                         |0                           |\n",
      "|53     |Bandar Seri Begawan    |1                         |0                           |\n",
      "|255    |Kalisz                 |1                         |0                           |\n",
      "|481    |Sirjan                 |1                         |0                           |\n",
      "|588    |Yingkou                |1                         |0                           |\n",
      "+-------+-----------------------+--------------------------+----------------------------+\n",
      "only showing top 20 rows\n",
      "\n"
     ]
    }
   ],
   "source": [
    "sixth.show(truncate=False)"
   ],
   "metadata": {
    "collapsed": false
   }
  },
  {
   "cell_type": "code",
   "execution_count": 24,
   "outputs": [],
   "source": [
    "seconds_in_hour = 3600\n",
    "categories_with_rental_period_for_city = category \\\n",
    "    .join(film_category, on='category_id') \\\n",
    "    .join(film, on='film_id') \\\n",
    "    .join(inventory, on='film_id') \\\n",
    "    .join(rental, on='inventory_id') \\\n",
    "    .join(customer, on='customer_id') \\\n",
    "    .join(address, on='address_id') \\\n",
    "    .join(city, on='city_id') \\\n",
    "    .groupby('category_id', 'name', 'city_id', 'city') \\\n",
    "    .agg(sum((col('return_date').cast('long') - col('rental_date').cast('long')) / seconds_in_hour).alias('sum_of_rental_hours')) \\\n",
    "    .select('category_id', 'name', 'city', 'sum_of_rental_hours')"
   ],
   "metadata": {
    "collapsed": false
   }
  },
  {
   "cell_type": "code",
   "execution_count": 25,
   "outputs": [],
   "source": [
    "first_part = categories_with_rental_period_for_city \\\n",
    "    .where(col('city').like('%a%')) \\\n",
    "    .select('category_id', 'name', 'sum_of_rental_hours') \\\n",
    "    .limit(1)"
   ],
   "metadata": {
    "collapsed": false
   }
  },
  {
   "cell_type": "code",
   "execution_count": 26,
   "outputs": [],
   "source": [
    "second_part = categories_with_rental_period_for_city \\\n",
    "    .where(col('city').like('%-%')) \\\n",
    "    .select('category_id', 'name', 'sum_of_rental_hours') \\\n",
    "    .limit(1)"
   ],
   "metadata": {
    "collapsed": false
   }
  },
  {
   "cell_type": "code",
   "execution_count": 27,
   "outputs": [],
   "source": [
    "seventh = first_part.unionAll(second_part)"
   ],
   "metadata": {
    "collapsed": false
   }
  },
  {
   "cell_type": "code",
   "execution_count": 28,
   "outputs": [
    {
     "name": "stdout",
     "output_type": "stream",
     "text": [
      "+-----------+-----+-------------------+\n",
      "|category_id|name |sum_of_rental_hours|\n",
      "+-----------+-----+-------------------+\n",
      "|10         |Games|208.25             |\n",
      "|12         |Music|221.93333333333334 |\n",
      "+-----------+-----+-------------------+\n",
      "\n"
     ]
    }
   ],
   "source": [
    "seventh.show(truncate=False)"
   ],
   "metadata": {
    "collapsed": false
   }
  }
 ],
 "metadata": {
  "kernelspec": {
   "display_name": "Python 3",
   "language": "python",
   "name": "python3"
  },
  "language_info": {
   "codemirror_mode": {
    "name": "ipython",
    "version": 2
   },
   "file_extension": ".py",
   "mimetype": "text/x-python",
   "name": "python",
   "nbconvert_exporter": "python",
   "pygments_lexer": "ipython2",
   "version": "2.7.6"
  }
 },
 "nbformat": 4,
 "nbformat_minor": 0
}
