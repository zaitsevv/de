{
 "cells": [
  {
   "cell_type": "markdown",
   "id": "trained-moses",
   "metadata": {},
   "source": [
    "import libraries(I provide all libs that I need when make this tasks, if you need some external import them here)"
   ]
  },
  {
   "cell_type": "code",
   "execution_count": 1,
   "outputs": [],
   "source": [
    "import findspark\n",
    "\n",
    "findspark.init()"
   ],
   "metadata": {
    "collapsed": false
   }
  },
  {
   "cell_type": "code",
   "execution_count": 2,
   "id": "induced-african",
   "metadata": {},
   "outputs": [],
   "source": [
    "from pyspark.sql import SparkSession\n",
    "from pyspark.sql.types import StructType, StructField, IntegerType, StringType\n",
    "from pyspark.sql.functions import col\n",
    "from pyspark.sql.functions import max, avg, min\n",
    "from pyspark.sql.window import Window\n",
    "from pyspark.sql.functions import row_number\n",
    "from pyspark.sql.functions import when"
   ]
  },
  {
   "cell_type": "markdown",
   "id": "permanent-photographer",
   "metadata": {},
   "source": [
    "create local SparkSession"
   ]
  },
  {
   "cell_type": "code",
   "execution_count": 3,
   "outputs": [
    {
     "name": "stdout",
     "output_type": "stream",
     "text": [
      "22/12/23 22:00:24 WARN Utils: Your hostname, archlinux resolves to a loopback address: 127.0.1.1; using 192.168.0.109 instead (on interface wlp0s20f3)\n",
      "22/12/23 22:00:24 WARN Utils: Set SPARK_LOCAL_IP if you need to bind to another address\n"
     ]
    },
    {
     "name": "stderr",
     "output_type": "stream",
     "text": [
      "Setting default log level to \"WARN\".\n",
      "To adjust logging level use sc.setLogLevel(newLevel). For SparkR, use setLogLevel(newLevel).\n"
     ]
    },
    {
     "name": "stdout",
     "output_type": "stream",
     "text": [
      "22/12/23 22:00:25 WARN NativeCodeLoader: Unable to load native-hadoop library for your platform... using builtin-java classes where applicable\n"
     ]
    }
   ],
   "source": [
    "spark = SparkSession.builder \\\n",
    "    .master('local[*]') \\\n",
    "    .appName('spark-demo') \\\n",
    "    .getOrCreate()"
   ],
   "metadata": {
    "collapsed": false
   }
  },
  {
   "cell_type": "markdown",
   "id": "juvenile-blame",
   "metadata": {},
   "source": [
    "read csv with inferschema"
   ]
  },
  {
   "cell_type": "code",
   "execution_count": 4,
   "id": "computational-liverpool",
   "metadata": {},
   "outputs": [
    {
     "name": "stdout",
     "output_type": "stream",
     "text": [
      "CPU times: user 0 ns, sys: 4.43 ms, total: 4.43 ms\n",
      "Wall time: 4.67 s\n"
     ]
    }
   ],
   "source": [
    "%%time\n",
    "\n",
    "df = spark.read \\\n",
    "    .option('header', True) \\\n",
    "    .option('inferSchema', True) \\\n",
    "    .csv('../data/ds_salaries.csv')"
   ]
  },
  {
   "cell_type": "markdown",
   "id": "stopped-dominant",
   "metadata": {},
   "source": [
    "read csv one more time with the same code and you will see that it almostly don't take time, because info already in SparkSession and it will not read nothing\n",
    "from this file"
   ]
  },
  {
   "cell_type": "code",
   "execution_count": 5,
   "outputs": [
    {
     "name": "stdout",
     "output_type": "stream",
     "text": [
      "CPU times: user 3.04 ms, sys: 0 ns, total: 3.04 ms\n",
      "Wall time: 261 ms\n"
     ]
    }
   ],
   "source": [
    "%%time\n",
    "\n",
    "df = spark.read \\\n",
    "    .option('header', True) \\\n",
    "    .option('inferSchema', True) \\\n",
    "    .csv('../data/ds_salaries.csv')"
   ],
   "metadata": {
    "collapsed": false
   }
  },
  {
   "cell_type": "markdown",
   "id": "mature-tomorrow",
   "metadata": {},
   "source": [
    "write schema of scv on screen"
   ]
  },
  {
   "cell_type": "code",
   "execution_count": 6,
   "id": "least-communications",
   "metadata": {},
   "outputs": [
    {
     "name": "stdout",
     "output_type": "stream",
     "text": [
      "root\n",
      " |-- _c0: integer (nullable = true)\n",
      " |-- work_year: integer (nullable = true)\n",
      " |-- experience_level: string (nullable = true)\n",
      " |-- employment_type: string (nullable = true)\n",
      " |-- job_title: string (nullable = true)\n",
      " |-- salary: integer (nullable = true)\n",
      " |-- salary_currency: string (nullable = true)\n",
      " |-- salary_in_usd: integer (nullable = true)\n",
      " |-- employee_residence: string (nullable = true)\n",
      " |-- remote_ratio: integer (nullable = true)\n",
      " |-- company_location: string (nullable = true)\n",
      " |-- company_size: string (nullable = true)\n",
      "\n"
     ]
    }
   ],
   "source": [
    "df.printSchema()"
   ]
  },
  {
   "cell_type": "markdown",
   "id": "connected-brother",
   "metadata": {},
   "source": [
    "create schema of this scv"
   ]
  },
  {
   "cell_type": "code",
   "execution_count": 4,
   "id": "progressive-dictionary",
   "metadata": {},
   "outputs": [],
   "source": [
    "schema = StructType([\n",
    "    StructField('id', IntegerType(), nullable=True),\n",
    "    StructField('work_year', StringType(), nullable=True),\n",
    "    StructField('experience_level', StringType(), nullable=True),\n",
    "    StructField('employment_type', StringType(), nullable=True),\n",
    "    StructField('job_title', StringType(), nullable=True),\n",
    "    StructField('salary', StringType(), nullable=True),\n",
    "    StructField('salary_currency', StringType(), nullable=True),\n",
    "    StructField('salary_in_usd', StringType(), nullable=True),\n",
    "    StructField('employee_residence', StringType(), nullable=True),\n",
    "    StructField('remote_ratio', StringType(), nullable=True),\n",
    "    StructField('company_location', StringType(), nullable=True),\n",
    "    StructField('company_size', StringType(), nullable=True)\n",
    "])"
   ]
  },
  {
   "cell_type": "markdown",
   "id": "auburn-sauce",
   "metadata": {},
   "source": [
    "restart kernel without cleaning output and after restarting you need to initialize SparkSession, after initialize start execute only cells from cell with schema=\n",
    "=StructType.... \n",
    "To restart kernel click Kernel, Restart."
   ]
  },
  {
   "cell_type": "markdown",
   "id": "artistic-hospital",
   "metadata": {},
   "source": [
    "read ds_salaries with predefined schema and compare results from this cell and cell with inferSchema"
   ]
  },
  {
   "cell_type": "code",
   "execution_count": 5,
   "id": "literary-plaintiff",
   "metadata": {},
   "outputs": [
    {
     "name": "stdout",
     "output_type": "stream",
     "text": [
      "CPU times: user 4.88 ms, sys: 604 µs, total: 5.48 ms\n",
      "Wall time: 2.67 s\n"
     ]
    }
   ],
   "source": [
    "%%time\n",
    "\n",
    "df = spark.read \\\n",
    "    .option('header', True) \\\n",
    "    .schema(schema) \\\n",
    "    .csv('../data/ds_salaries.csv')"
   ]
  },
  {
   "cell_type": "markdown",
   "id": "senior-joint",
   "metadata": {},
   "source": [
    "this happens because read operation is lazy(transformation), but if you use inferschema it start to be action that will create Spark Job, because Spark need to loop throw all file to check datatypes for all columns and this can harm to your code(if we compare to parquet, it will also go to check data types, but parquet provide meta information, so Spark will not go throw all file, he will just read meta information, but csv don't provide such meta information). Also header make Spark to create one more Spark Job to check first line\n",
    "to define name of columns and remember to skeep it when reading. Actual reading start when you will use first action. More about Spark Jobs you will see in next topic"
   ]
  },
  {
   "cell_type": "markdown",
   "id": "underlying-assurance",
   "metadata": {},
   "source": [
    "write schema of scv on screen one more time and compare with previous"
   ]
  },
  {
   "cell_type": "code",
   "execution_count": 6,
   "id": "solid-infection",
   "metadata": {},
   "outputs": [
    {
     "name": "stdout",
     "output_type": "stream",
     "text": [
      "root\n",
      " |-- id: integer (nullable = true)\n",
      " |-- work_year: string (nullable = true)\n",
      " |-- experience_level: string (nullable = true)\n",
      " |-- employment_type: string (nullable = true)\n",
      " |-- job_title: string (nullable = true)\n",
      " |-- salary: string (nullable = true)\n",
      " |-- salary_currency: string (nullable = true)\n",
      " |-- salary_in_usd: string (nullable = true)\n",
      " |-- employee_residence: string (nullable = true)\n",
      " |-- remote_ratio: string (nullable = true)\n",
      " |-- company_location: string (nullable = true)\n",
      " |-- company_size: string (nullable = true)\n",
      "\n"
     ]
    }
   ],
   "source": [
    "df.printSchema()"
   ]
  },
  {
   "cell_type": "markdown",
   "id": "close-water",
   "metadata": {},
   "source": [
    "now continue to work with one of the dataframes that you create"
   ]
  },
  {
   "cell_type": "markdown",
   "id": "piano-belgium",
   "metadata": {},
   "source": [
    "print data in dataframe using df.show"
   ]
  },
  {
   "cell_type": "code",
   "execution_count": 7,
   "id": "legendary-alarm",
   "metadata": {},
   "outputs": [
    {
     "name": "stdout",
     "output_type": "stream",
     "text": [
      "22/12/23 22:00:48 WARN CSVHeaderChecker: CSV header does not conform to the schema.\n",
      " Header: , work_year, experience_level, employment_type, job_title, salary, salary_currency, salary_in_usd, employee_residence, remote_ratio, company_location, company_size\n",
      " Schema: id, work_year, experience_level, employment_type, job_title, salary, salary_currency, salary_in_usd, employee_residence, remote_ratio, company_location, company_size\n",
      "Expected: id but found: \n",
      "CSV file: file:///home/konstantin/Projects/de/spark-demo/data/ds_salaries.csv\n",
      "+---+---------+----------------+---------------+--------------------------+--------+---------------+-------------+------------------+------------+----------------+------------+\n",
      "|id |work_year|experience_level|employment_type|job_title                 |salary  |salary_currency|salary_in_usd|employee_residence|remote_ratio|company_location|company_size|\n",
      "+---+---------+----------------+---------------+--------------------------+--------+---------------+-------------+------------------+------------+----------------+------------+\n",
      "|0  |2020     |MI              |FT             |Data Scientist            |70000   |EUR            |79833        |DE                |0           |DE              |L           |\n",
      "|1  |2020     |SE              |FT             |Machine Learning Scientist|260000  |USD            |260000       |JP                |0           |JP              |S           |\n",
      "|2  |2020     |SE              |FT             |Big Data Engineer         |85000   |GBP            |109024       |GB                |50          |GB              |M           |\n",
      "|3  |2020     |MI              |FT             |Product Data Analyst      |20000   |USD            |20000        |HN                |0           |HN              |S           |\n",
      "|4  |2020     |SE              |FT             |Machine Learning Engineer |150000  |USD            |150000       |US                |50          |US              |L           |\n",
      "|5  |2020     |EN              |FT             |Data Analyst              |72000   |USD            |72000        |US                |100         |US              |L           |\n",
      "|6  |2020     |SE              |FT             |Lead Data Scientist       |190000  |USD            |190000       |US                |100         |US              |S           |\n",
      "|7  |2020     |MI              |FT             |Data Scientist            |11000000|HUF            |35735        |HU                |50          |HU              |L           |\n",
      "|8  |2020     |MI              |FT             |Business Data Analyst     |135000  |USD            |135000       |US                |100         |US              |L           |\n",
      "|9  |2020     |SE              |FT             |Lead Data Engineer        |125000  |USD            |125000       |NZ                |50          |NZ              |S           |\n",
      "|10 |2020     |EN              |FT             |Data Scientist            |45000   |EUR            |51321        |FR                |0           |FR              |S           |\n",
      "|11 |2020     |MI              |FT             |Data Scientist            |3000000 |INR            |40481        |IN                |0           |IN              |L           |\n",
      "|12 |2020     |EN              |FT             |Data Scientist            |35000   |EUR            |39916        |FR                |0           |FR              |M           |\n",
      "|13 |2020     |MI              |FT             |Lead Data Analyst         |87000   |USD            |87000        |US                |100         |US              |L           |\n",
      "|14 |2020     |MI              |FT             |Data Analyst              |85000   |USD            |85000        |US                |100         |US              |L           |\n",
      "|15 |2020     |MI              |FT             |Data Analyst              |8000    |USD            |8000         |PK                |50          |PK              |L           |\n",
      "|16 |2020     |EN              |FT             |Data Engineer             |4450000 |JPY            |41689        |JP                |100         |JP              |S           |\n",
      "|17 |2020     |SE              |FT             |Big Data Engineer         |100000  |EUR            |114047       |PL                |100         |GB              |S           |\n",
      "|18 |2020     |EN              |FT             |Data Science Consultant   |423000  |INR            |5707         |IN                |50          |IN              |M           |\n",
      "|19 |2020     |MI              |FT             |Lead Data Engineer        |56000   |USD            |56000        |PT                |100         |US              |M           |\n",
      "+---+---------+----------------+---------------+--------------------------+--------+---------------+-------------+------------------+------------+----------------+------------+\n",
      "only showing top 20 rows\n",
      "\n"
     ]
    }
   ],
   "source": [
    "df.show(truncate=False)"
   ]
  },
  {
   "cell_type": "markdown",
   "id": "tamil-medium",
   "metadata": {},
   "source": [
    "print data in dataframe using display(df.toPandas())"
   ]
  },
  {
   "cell_type": "code",
   "execution_count": 8,
   "id": "connected-dryer",
   "metadata": {},
   "outputs": [
    {
     "name": "stdout",
     "output_type": "stream",
     "text": [
      "22/12/23 22:00:49 WARN CSVHeaderChecker: CSV header does not conform to the schema.\n",
      " Header: , work_year, experience_level, employment_type, job_title, salary, salary_currency, salary_in_usd, employee_residence, remote_ratio, company_location, company_size\n",
      " Schema: id, work_year, experience_level, employment_type, job_title, salary, salary_currency, salary_in_usd, employee_residence, remote_ratio, company_location, company_size\n",
      "Expected: id but found: \n",
      "CSV file: file:///home/konstantin/Projects/de/spark-demo/data/ds_salaries.csv\n"
     ]
    },
    {
     "data": {
      "text/plain": "      id work_year experience_level employment_type  \\\n0      0      2020               MI              FT   \n1      1      2020               SE              FT   \n2      2      2020               SE              FT   \n3      3      2020               MI              FT   \n4      4      2020               SE              FT   \n..   ...       ...              ...             ...   \n602  602      2022               SE              FT   \n603  603      2022               SE              FT   \n604  604      2022               SE              FT   \n605  605      2022               SE              FT   \n606  606      2022               MI              FT   \n\n                      job_title  salary salary_currency salary_in_usd  \\\n0                Data Scientist   70000             EUR         79833   \n1    Machine Learning Scientist  260000             USD        260000   \n2             Big Data Engineer   85000             GBP        109024   \n3          Product Data Analyst   20000             USD         20000   \n4     Machine Learning Engineer  150000             USD        150000   \n..                          ...     ...             ...           ...   \n602               Data Engineer  154000             USD        154000   \n603               Data Engineer  126000             USD        126000   \n604                Data Analyst  129000             USD        129000   \n605                Data Analyst  150000             USD        150000   \n606                AI Scientist  200000             USD        200000   \n\n    employee_residence remote_ratio company_location company_size  \n0                   DE            0               DE            L  \n1                   JP            0               JP            S  \n2                   GB           50               GB            M  \n3                   HN            0               HN            S  \n4                   US           50               US            L  \n..                 ...          ...              ...          ...  \n602                 US          100               US            M  \n603                 US          100               US            M  \n604                 US            0               US            M  \n605                 US          100               US            M  \n606                 IN          100               US            L  \n\n[607 rows x 12 columns]",
      "text/html": "<div>\n<style scoped>\n    .dataframe tbody tr th:only-of-type {\n        vertical-align: middle;\n    }\n\n    .dataframe tbody tr th {\n        vertical-align: top;\n    }\n\n    .dataframe thead th {\n        text-align: right;\n    }\n</style>\n<table border=\"1\" class=\"dataframe\">\n  <thead>\n    <tr style=\"text-align: right;\">\n      <th></th>\n      <th>id</th>\n      <th>work_year</th>\n      <th>experience_level</th>\n      <th>employment_type</th>\n      <th>job_title</th>\n      <th>salary</th>\n      <th>salary_currency</th>\n      <th>salary_in_usd</th>\n      <th>employee_residence</th>\n      <th>remote_ratio</th>\n      <th>company_location</th>\n      <th>company_size</th>\n    </tr>\n  </thead>\n  <tbody>\n    <tr>\n      <th>0</th>\n      <td>0</td>\n      <td>2020</td>\n      <td>MI</td>\n      <td>FT</td>\n      <td>Data Scientist</td>\n      <td>70000</td>\n      <td>EUR</td>\n      <td>79833</td>\n      <td>DE</td>\n      <td>0</td>\n      <td>DE</td>\n      <td>L</td>\n    </tr>\n    <tr>\n      <th>1</th>\n      <td>1</td>\n      <td>2020</td>\n      <td>SE</td>\n      <td>FT</td>\n      <td>Machine Learning Scientist</td>\n      <td>260000</td>\n      <td>USD</td>\n      <td>260000</td>\n      <td>JP</td>\n      <td>0</td>\n      <td>JP</td>\n      <td>S</td>\n    </tr>\n    <tr>\n      <th>2</th>\n      <td>2</td>\n      <td>2020</td>\n      <td>SE</td>\n      <td>FT</td>\n      <td>Big Data Engineer</td>\n      <td>85000</td>\n      <td>GBP</td>\n      <td>109024</td>\n      <td>GB</td>\n      <td>50</td>\n      <td>GB</td>\n      <td>M</td>\n    </tr>\n    <tr>\n      <th>3</th>\n      <td>3</td>\n      <td>2020</td>\n      <td>MI</td>\n      <td>FT</td>\n      <td>Product Data Analyst</td>\n      <td>20000</td>\n      <td>USD</td>\n      <td>20000</td>\n      <td>HN</td>\n      <td>0</td>\n      <td>HN</td>\n      <td>S</td>\n    </tr>\n    <tr>\n      <th>4</th>\n      <td>4</td>\n      <td>2020</td>\n      <td>SE</td>\n      <td>FT</td>\n      <td>Machine Learning Engineer</td>\n      <td>150000</td>\n      <td>USD</td>\n      <td>150000</td>\n      <td>US</td>\n      <td>50</td>\n      <td>US</td>\n      <td>L</td>\n    </tr>\n    <tr>\n      <th>...</th>\n      <td>...</td>\n      <td>...</td>\n      <td>...</td>\n      <td>...</td>\n      <td>...</td>\n      <td>...</td>\n      <td>...</td>\n      <td>...</td>\n      <td>...</td>\n      <td>...</td>\n      <td>...</td>\n      <td>...</td>\n    </tr>\n    <tr>\n      <th>602</th>\n      <td>602</td>\n      <td>2022</td>\n      <td>SE</td>\n      <td>FT</td>\n      <td>Data Engineer</td>\n      <td>154000</td>\n      <td>USD</td>\n      <td>154000</td>\n      <td>US</td>\n      <td>100</td>\n      <td>US</td>\n      <td>M</td>\n    </tr>\n    <tr>\n      <th>603</th>\n      <td>603</td>\n      <td>2022</td>\n      <td>SE</td>\n      <td>FT</td>\n      <td>Data Engineer</td>\n      <td>126000</td>\n      <td>USD</td>\n      <td>126000</td>\n      <td>US</td>\n      <td>100</td>\n      <td>US</td>\n      <td>M</td>\n    </tr>\n    <tr>\n      <th>604</th>\n      <td>604</td>\n      <td>2022</td>\n      <td>SE</td>\n      <td>FT</td>\n      <td>Data Analyst</td>\n      <td>129000</td>\n      <td>USD</td>\n      <td>129000</td>\n      <td>US</td>\n      <td>0</td>\n      <td>US</td>\n      <td>M</td>\n    </tr>\n    <tr>\n      <th>605</th>\n      <td>605</td>\n      <td>2022</td>\n      <td>SE</td>\n      <td>FT</td>\n      <td>Data Analyst</td>\n      <td>150000</td>\n      <td>USD</td>\n      <td>150000</td>\n      <td>US</td>\n      <td>100</td>\n      <td>US</td>\n      <td>M</td>\n    </tr>\n    <tr>\n      <th>606</th>\n      <td>606</td>\n      <td>2022</td>\n      <td>MI</td>\n      <td>FT</td>\n      <td>AI Scientist</td>\n      <td>200000</td>\n      <td>USD</td>\n      <td>200000</td>\n      <td>IN</td>\n      <td>100</td>\n      <td>US</td>\n      <td>L</td>\n    </tr>\n  </tbody>\n</table>\n<p>607 rows × 12 columns</p>\n</div>"
     },
     "metadata": {},
     "output_type": "display_data"
    }
   ],
   "source": [
    "display(df.toPandas())"
   ]
  },
  {
   "cell_type": "markdown",
   "id": "opponent-gazette",
   "metadata": {},
   "source": [
    "create df_job_title that consists from all job_titles without duplicates"
   ]
  },
  {
   "cell_type": "code",
   "execution_count": 9,
   "id": "friendly-cartridge",
   "metadata": {},
   "outputs": [],
   "source": [
    "df_job_title = df.select('job_title').distinct()"
   ]
  },
  {
   "cell_type": "markdown",
   "id": "offshore-architecture",
   "metadata": {},
   "source": [
    "print all rows from df_job_titles without truncating jobs"
   ]
  },
  {
   "cell_type": "code",
   "execution_count": 10,
   "id": "asian-edition",
   "metadata": {},
   "outputs": [
    {
     "name": "stdout",
     "output_type": "stream",
     "text": [
      "+----------------------------------------+\n",
      "|job_title                               |\n",
      "+----------------------------------------+\n",
      "|3D Computer Vision Researcher           |\n",
      "|Lead Data Engineer                      |\n",
      "|Head of Machine Learning                |\n",
      "|Data Specialist                         |\n",
      "|Data Analytics Lead                     |\n",
      "|Machine Learning Scientist              |\n",
      "|Lead Data Analyst                       |\n",
      "|Data Engineering Manager                |\n",
      "|Staff Data Scientist                    |\n",
      "|ETL Developer                           |\n",
      "|Director of Data Engineering            |\n",
      "|Product Data Analyst                    |\n",
      "|Principal Data Scientist                |\n",
      "|AI Scientist                            |\n",
      "|Director of Data Science                |\n",
      "|Machine Learning Engineer               |\n",
      "|Lead Data Scientist                     |\n",
      "|Machine Learning Infrastructure Engineer|\n",
      "|Data Science Engineer                   |\n",
      "|Machine Learning Manager                |\n",
      "+----------------------------------------+\n",
      "only showing top 20 rows\n",
      "\n"
     ]
    }
   ],
   "source": [
    "df_job_title.show(truncate=False)"
   ]
  },
  {
   "cell_type": "markdown",
   "id": "interim-pharmacy",
   "metadata": {},
   "source": [
    "create  df_analytic that will consists from max, avg, min USD salaries for all job_titles using groupBy. name of fields is avg_salary, min_salary, max_salary"
   ]
  },
  {
   "cell_type": "code",
   "execution_count": 11,
   "id": "naval-roller",
   "metadata": {},
   "outputs": [],
   "source": [
    "df_analytic = df \\\n",
    "    .groupby('job_title') \\\n",
    "    .agg(max('salary_in_usd').alias('max_salary'),\n",
    "         avg('salary_in_usd').alias('avg_salary'),\n",
    "         min('salary_in_usd').alias('min_salary'))"
   ]
  },
  {
   "cell_type": "markdown",
   "id": "french-pledge",
   "metadata": {},
   "source": [
    "print all rows from df_analytic without trancating jobs"
   ]
  },
  {
   "cell_type": "code",
   "execution_count": 12,
   "id": "bacterial-depression",
   "metadata": {},
   "outputs": [
    {
     "name": "stdout",
     "output_type": "stream",
     "text": [
      "+----------------------------------+----------+------------------+----------+\n",
      "|job_title                         |max_salary|avg_salary        |min_salary|\n",
      "+----------------------------------+----------+------------------+----------+\n",
      "|3D Computer Vision Researcher     |5409      |5409.0            |5409      |\n",
      "|AI Scientist                      |55000     |66135.57142857143 |12000     |\n",
      "|Analytics Engineer                |205300    |175000.0          |135000    |\n",
      "|Applied Data Scientist            |54238     |175655.0          |110037    |\n",
      "|Applied Machine Learning Scientist|75000     |142068.75         |31875     |\n",
      "|BI Data Analyst                   |98000     |74755.16666666667 |100000    |\n",
      "|Big Data Architect                |99703     |99703.0           |99703     |\n",
      "|Big Data Engineer                 |70000     |51974.0           |109024    |\n",
      "|Business Data Analyst             |70912     |76691.2           |100000    |\n",
      "|Cloud Data Engineer               |89294     |124647.0          |160000    |\n",
      "|Computer Vision Engineer          |60000     |44419.333333333336|10000     |\n",
      "|Computer Vision Software Engineer |95746     |105248.66666666667|150000    |\n",
      "|Data Analyst                      |99050     |92893.06185567011 |10000     |\n",
      "|Data Analytics Engineer           |79197     |64799.25          |110000    |\n",
      "|Data Analytics Lead               |405000    |405000.0          |405000    |\n",
      "|Data Analytics Manager            |150260    |127134.28571428571|105400    |\n",
      "|Data Architect                    |90700     |177873.9090909091 |144854    |\n",
      "|Data Engineer                     |99100     |112725.0          |100000    |\n",
      "|Data Engineering Manager          |79833     |123227.2          |150000    |\n",
      "|Data Science Consultant           |90000     |69420.71428571429 |103000    |\n",
      "+----------------------------------+----------+------------------+----------+\n",
      "only showing top 20 rows\n",
      "\n"
     ]
    }
   ],
   "source": [
    "df_analytic.show(truncate=False)"
   ]
  },
  {
   "cell_type": "markdown",
   "id": "hazardous-color",
   "metadata": {},
   "source": [
    "now you need to add in df_analytic column row_id, that will show order of all job_titles depending on avg salary. they should be descending"
   ]
  },
  {
   "cell_type": "code",
   "execution_count": 13,
   "id": "nearby-treasurer",
   "metadata": {},
   "outputs": [],
   "source": [
    "window = Window.orderBy(col('avg_salary').desc())\n",
    "df_analytic = df_analytic.withColumn('row_id', row_number().over(window))"
   ]
  },
  {
   "cell_type": "markdown",
   "id": "documented-catalog",
   "metadata": {},
   "source": [
    "print all data from df_analytic"
   ]
  },
  {
   "cell_type": "code",
   "execution_count": 14,
   "id": "confirmed-monitoring",
   "metadata": {},
   "outputs": [
    {
     "name": "stdout",
     "output_type": "stream",
     "text": [
      "22/12/23 22:00:51 WARN WindowExec: No Partition Defined for Window operation! Moving all data to a single partition, this can cause serious performance degradation.\n",
      "22/12/23 22:00:51 WARN WindowExec: No Partition Defined for Window operation! Moving all data to a single partition, this can cause serious performance degradation.\n",
      "22/12/23 22:00:51 WARN WindowExec: No Partition Defined for Window operation! Moving all data to a single partition, this can cause serious performance degradation.\n",
      "22/12/23 22:00:51 WARN WindowExec: No Partition Defined for Window operation! Moving all data to a single partition, this can cause serious performance degradation.\n",
      "22/12/23 22:00:51 WARN WindowExec: No Partition Defined for Window operation! Moving all data to a single partition, this can cause serious performance degradation.\n",
      "22/12/23 22:00:51 WARN WindowExec: No Partition Defined for Window operation! Moving all data to a single partition, this can cause serious performance degradation.\n",
      "+----------------------------------+----------+------------------+----------+------+\n",
      "|job_title                         |max_salary|avg_salary        |min_salary|row_id|\n",
      "+----------------------------------+----------+------------------+----------+------+\n",
      "|Data Analytics Lead               |405000    |405000.0          |405000    |1     |\n",
      "|Principal Data Engineer           |600000    |328333.3333333333 |185000    |2     |\n",
      "|Financial Data Analyst            |450000    |275000.0          |100000    |3     |\n",
      "|Principal Data Scientist          |416000    |215242.42857142858|148261    |4     |\n",
      "|Director of Data Science          |325000    |195074.0          |130026    |5     |\n",
      "|Data Architect                    |90700     |177873.9090909091 |144854    |6     |\n",
      "|Applied Data Scientist            |54238     |175655.0          |110037    |7     |\n",
      "|Analytics Engineer                |205300    |175000.0          |135000    |8     |\n",
      "|Data Specialist                   |165000    |165000.0          |165000    |9     |\n",
      "|Head of Data                      |32974     |160162.6          |102839    |10    |\n",
      "|Machine Learning Scientist        |260000    |158412.5          |112300    |11    |\n",
      "|Data Science Manager              |94665     |158328.5          |137141    |12    |\n",
      "|Director of Data Engineering      |200000    |156738.0          |113476    |13    |\n",
      "|Head of Data Science              |85000     |146718.75         |110000    |14    |\n",
      "|Applied Machine Learning Scientist|75000     |142068.75         |31875     |15    |\n",
      "|Lead Data Engineer                |56000     |139724.5          |103160    |16    |\n",
      "|Data Analytics Manager            |150260    |127134.28571428571|105400    |17    |\n",
      "|Cloud Data Engineer               |89294     |124647.0          |160000    |18    |\n",
      "|Data Engineering Manager          |79833     |123227.2          |150000    |19    |\n",
      "|Principal Data Analyst            |75000     |122500.0          |170000    |20    |\n",
      "+----------------------------------+----------+------------------+----------+------+\n",
      "only showing top 20 rows\n",
      "\n"
     ]
    }
   ],
   "source": [
    "df_analytic.show(truncate=False)"
   ]
  },
  {
   "cell_type": "markdown",
   "id": "satellite-quarter",
   "metadata": {},
   "source": [
    "it isn't beautifull, so we need to put now row_id on first place in df_analytic"
   ]
  },
  {
   "cell_type": "code",
   "execution_count": 15,
   "id": "ranging-tribune",
   "metadata": {},
   "outputs": [],
   "source": [
    "df_analytic = df_analytic.select('row_id', 'job_title', 'max_salary', 'avg_salary', 'min_salary')"
   ]
  },
  {
   "cell_type": "markdown",
   "id": "reliable-amsterdam",
   "metadata": {},
   "source": [
    "print df_analytic now"
   ]
  },
  {
   "cell_type": "code",
   "execution_count": 16,
   "id": "classical-biology",
   "metadata": {},
   "outputs": [
    {
     "name": "stdout",
     "output_type": "stream",
     "text": [
      "22/12/23 22:00:51 WARN WindowExec: No Partition Defined for Window operation! Moving all data to a single partition, this can cause serious performance degradation.\n",
      "22/12/23 22:00:51 WARN WindowExec: No Partition Defined for Window operation! Moving all data to a single partition, this can cause serious performance degradation.\n",
      "22/12/23 22:00:51 WARN WindowExec: No Partition Defined for Window operation! Moving all data to a single partition, this can cause serious performance degradation.\n",
      "22/12/23 22:00:51 WARN WindowExec: No Partition Defined for Window operation! Moving all data to a single partition, this can cause serious performance degradation.\n",
      "22/12/23 22:00:51 WARN WindowExec: No Partition Defined for Window operation! Moving all data to a single partition, this can cause serious performance degradation.\n",
      "22/12/23 22:00:51 WARN WindowExec: No Partition Defined for Window operation! Moving all data to a single partition, this can cause serious performance degradation.\n",
      "+------+----------------------------------+----------+------------------+----------+\n",
      "|row_id|job_title                         |max_salary|avg_salary        |min_salary|\n",
      "+------+----------------------------------+----------+------------------+----------+\n",
      "|1     |Data Analytics Lead               |405000    |405000.0          |405000    |\n",
      "|2     |Principal Data Engineer           |600000    |328333.3333333333 |185000    |\n",
      "|3     |Financial Data Analyst            |450000    |275000.0          |100000    |\n",
      "|4     |Principal Data Scientist          |416000    |215242.42857142858|148261    |\n",
      "|5     |Director of Data Science          |325000    |195074.0          |130026    |\n",
      "|6     |Data Architect                    |90700     |177873.9090909091 |144854    |\n",
      "|7     |Applied Data Scientist            |54238     |175655.0          |110037    |\n",
      "|8     |Analytics Engineer                |205300    |175000.0          |135000    |\n",
      "|9     |Data Specialist                   |165000    |165000.0          |165000    |\n",
      "|10    |Head of Data                      |32974     |160162.6          |102839    |\n",
      "|11    |Machine Learning Scientist        |260000    |158412.5          |112300    |\n",
      "|12    |Data Science Manager              |94665     |158328.5          |137141    |\n",
      "|13    |Director of Data Engineering      |200000    |156738.0          |113476    |\n",
      "|14    |Head of Data Science              |85000     |146718.75         |110000    |\n",
      "|15    |Applied Machine Learning Scientist|75000     |142068.75         |31875     |\n",
      "|16    |Lead Data Engineer                |56000     |139724.5          |103160    |\n",
      "|17    |Data Analytics Manager            |150260    |127134.28571428571|105400    |\n",
      "|18    |Cloud Data Engineer               |89294     |124647.0          |160000    |\n",
      "|19    |Data Engineering Manager          |79833     |123227.2          |150000    |\n",
      "|20    |Principal Data Analyst            |75000     |122500.0          |170000    |\n",
      "+------+----------------------------------+----------+------------------+----------+\n",
      "only showing top 20 rows\n",
      "\n"
     ]
    }
   ],
   "source": [
    "df_analytic.show(truncate=False)"
   ]
  },
  {
   "cell_type": "markdown",
   "id": "hybrid-queensland",
   "metadata": {},
   "source": [
    "here you need to create df_exp_lvl with the biggest usd_salary(biggest_salary) for each experience_level(you need to save all fields like in entire dataframe)"
   ]
  },
  {
   "cell_type": "code",
   "execution_count": 17,
   "outputs": [],
   "source": [
    "window = Window.partitionBy('experience_level')\n",
    "df_exp_lvl = df.withColumn('biggest_salary', max('salary_in_usd').over(window))"
   ],
   "metadata": {
    "collapsed": false
   }
  },
  {
   "cell_type": "markdown",
   "id": "innovative-hierarchy",
   "metadata": {},
   "source": [
    "print here df_exp_lvl"
   ]
  },
  {
   "cell_type": "code",
   "execution_count": 18,
   "id": "standing-toilet",
   "metadata": {},
   "outputs": [
    {
     "name": "stdout",
     "output_type": "stream",
     "text": [
      "22/12/23 22:00:52 WARN CSVHeaderChecker: CSV header does not conform to the schema.\n",
      " Header: , work_year, experience_level, employment_type, job_title, salary, salary_currency, salary_in_usd, employee_residence, remote_ratio, company_location, company_size\n",
      " Schema: id, work_year, experience_level, employment_type, job_title, salary, salary_currency, salary_in_usd, employee_residence, remote_ratio, company_location, company_size\n",
      "Expected: id but found: \n",
      "CSV file: file:///home/konstantin/Projects/de/spark-demo/data/ds_salaries.csv\n",
      "+---+---------+----------------+---------------+-------------------------+-------+---------------+-------------+------------------+------------+----------------+------------+--------------+\n",
      "|id |work_year|experience_level|employment_type|job_title                |salary |salary_currency|salary_in_usd|employee_residence|remote_ratio|company_location|company_size|biggest_salary|\n",
      "+---+---------+----------------+---------------+-------------------------+-------+---------------+-------------+------------------+------------+----------------+------------+--------------+\n",
      "|5  |2020     |EN              |FT             |Data Analyst             |72000  |USD            |72000        |US                |100         |US              |L           |9272          |\n",
      "|10 |2020     |EN              |FT             |Data Scientist           |45000  |EUR            |51321        |FR                |0           |FR              |S           |9272          |\n",
      "|12 |2020     |EN              |FT             |Data Scientist           |35000  |EUR            |39916        |FR                |0           |FR              |M           |9272          |\n",
      "|16 |2020     |EN              |FT             |Data Engineer            |4450000|JPY            |41689        |JP                |100         |JP              |S           |9272          |\n",
      "|18 |2020     |EN              |FT             |Data Science Consultant  |423000 |INR            |5707         |IN                |50          |IN              |M           |9272          |\n",
      "|26 |2020     |EN              |FT             |Research Scientist       |42000  |USD            |42000        |NL                |50          |NL              |L           |9272          |\n",
      "|28 |2020     |EN              |CT             |Business Data Analyst    |100000 |USD            |100000       |US                |100         |US              |L           |9272          |\n",
      "|31 |2020     |EN              |FT             |Big Data Engineer        |70000  |USD            |70000        |US                |100         |US              |L           |9272          |\n",
      "|37 |2020     |EN              |FT             |Machine Learning Engineer|250000 |USD            |250000       |US                |50          |US              |L           |9272          |\n",
      "|38 |2020     |EN              |FT             |Data Analyst             |10000  |USD            |10000        |NG                |100         |NG              |S           |9272          |\n",
      "|39 |2020     |EN              |FT             |Machine Learning Engineer|138000 |USD            |138000       |US                |100         |US              |S           |9272          |\n",
      "|45 |2020     |EN              |PT             |ML Engineer              |14000  |EUR            |15966        |DE                |100         |DE              |S           |9272          |\n",
      "|50 |2020     |EN              |FT             |Data Analyst             |450000 |INR            |6072         |IN                |0           |IN              |S           |9272          |\n",
      "|51 |2020     |EN              |FT             |Data Analyst             |91000  |USD            |91000        |US                |100         |US              |L           |9272          |\n",
      "|52 |2020     |EN              |FT             |AI Scientist             |300000 |DKK            |45896        |DK                |50          |DK              |S           |9272          |\n",
      "|53 |2020     |EN              |FT             |Data Engineer            |48000  |EUR            |54742        |PK                |100         |DE              |L           |9272          |\n",
      "|62 |2020     |EN              |PT             |Data Scientist           |19000  |EUR            |21669        |IT                |50          |IT              |S           |9272          |\n",
      "|65 |2020     |EN              |FT             |Data Scientist           |55000  |EUR            |62726        |DE                |50          |DE              |S           |9272          |\n",
      "|66 |2020     |EN              |FT             |Data Scientist           |43200  |EUR            |49268        |DE                |0           |DE              |S           |9272          |\n",
      "|68 |2020     |EN              |FT             |Data Scientist           |105000 |USD            |105000       |US                |100         |US              |S           |9272          |\n",
      "+---+---------+----------------+---------------+-------------------------+-------+---------------+-------------+------------------+------------+----------------+------------+--------------+\n",
      "only showing top 20 rows\n",
      "\n"
     ]
    }
   ],
   "source": [
    "df_exp_lvl.show(truncate=False)"
   ]
  },
  {
   "cell_type": "markdown",
   "id": "hawaiian-mortgage",
   "metadata": {},
   "source": [
    "create df_best that consists from rows where salary of guy same as biggest salary for other people in his exp_lvl and choose only columns: id, experience_level, biggest_salary, employee_residence"
   ]
  },
  {
   "cell_type": "code",
   "execution_count": 19,
   "id": "toxic-prompt",
   "metadata": {},
   "outputs": [],
   "source": [
    "df_best = df_exp_lvl \\\n",
    "    .select('id', 'experience_level', 'biggest_salary', 'employee_residence') \\\n",
    "    .where(col('salary_in_usd') == col('biggest_salary'))"
   ]
  },
  {
   "cell_type": "markdown",
   "id": "complex-librarian",
   "metadata": {},
   "source": [
    "print df_best"
   ]
  },
  {
   "cell_type": "code",
   "execution_count": 20,
   "id": "smart-texas",
   "metadata": {},
   "outputs": [
    {
     "name": "stdout",
     "output_type": "stream",
     "text": [
      "22/12/23 22:00:52 WARN CSVHeaderChecker: CSV header does not conform to the schema.\n",
      " Header: , experience_level, salary_in_usd, employee_residence\n",
      " Schema: id, experience_level, salary_in_usd, employee_residence\n",
      "Expected: id but found: \n",
      "CSV file: file:///home/konstantin/Projects/de/spark-demo/data/ds_salaries.csv\n",
      "+---+----------------+--------------+------------------+\n",
      "|id |experience_level|biggest_salary|employee_residence|\n",
      "+---+----------------+--------------+------------------+\n",
      "|196|EN              |9272          |KE                |\n",
      "|161|EX              |85000         |RU                |\n",
      "|543|MI              |99100         |US                |\n",
      "|255|SE              |99703         |CA                |\n",
      "+---+----------------+--------------+------------------+\n",
      "\n"
     ]
    }
   ],
   "source": [
    "df_best.show(truncate=False)"
   ]
  },
  {
   "cell_type": "markdown",
   "id": "integral-brass",
   "metadata": {},
   "source": [
    "drop duplicates if exist by experience_level"
   ]
  },
  {
   "cell_type": "code",
   "execution_count": 21,
   "id": "immune-marine",
   "metadata": {},
   "outputs": [],
   "source": [
    "df_best = df_best.dropDuplicates(['experience_level'])"
   ]
  },
  {
   "cell_type": "markdown",
   "id": "connected-credit",
   "metadata": {},
   "source": [
    "print df_best"
   ]
  },
  {
   "cell_type": "code",
   "execution_count": 22,
   "id": "specified-wellington",
   "metadata": {},
   "outputs": [
    {
     "name": "stdout",
     "output_type": "stream",
     "text": [
      "22/12/23 22:00:52 WARN CSVHeaderChecker: CSV header does not conform to the schema.\n",
      " Header: , experience_level, salary_in_usd, employee_residence\n",
      " Schema: id, experience_level, salary_in_usd, employee_residence\n",
      "Expected: id but found: \n",
      "CSV file: file:///home/konstantin/Projects/de/spark-demo/data/ds_salaries.csv\n",
      "+---+----------------+--------------+------------------+\n",
      "|id |experience_level|biggest_salary|employee_residence|\n",
      "+---+----------------+--------------+------------------+\n",
      "|196|EN              |9272          |KE                |\n",
      "|161|EX              |85000         |RU                |\n",
      "|543|MI              |99100         |US                |\n",
      "|255|SE              |99703         |CA                |\n",
      "+---+----------------+--------------+------------------+\n",
      "\n"
     ]
    }
   ],
   "source": [
    "df_best.show(truncate=False)"
   ]
  },
  {
   "cell_type": "markdown",
   "id": "facial-plant",
   "metadata": {},
   "source": [
    "create df_new_best from df_best without id, and make the next: when exp_level = MI we want middle, when SE we want senior, else Null"
   ]
  },
  {
   "cell_type": "code",
   "execution_count": 23,
   "id": "infinite-retail",
   "metadata": {},
   "outputs": [],
   "source": [
    "df_new_best = df_best \\\n",
    "    .select('biggest_salary',\n",
    "            'employee_residence',\n",
    "            when(col('experience_level') == 'MI', 'middle')\n",
    "            .when(col('experience_level') == 'SE', 'senior')\n",
    "            .otherwise(None).alias('experience_level'))"
   ]
  },
  {
   "cell_type": "markdown",
   "id": "changing-fairy",
   "metadata": {},
   "source": [
    "print df_new_best"
   ]
  },
  {
   "cell_type": "code",
   "execution_count": 24,
   "id": "endless-framework",
   "metadata": {},
   "outputs": [
    {
     "name": "stdout",
     "output_type": "stream",
     "text": [
      "+--------------+------------------+----------------+\n",
      "|biggest_salary|employee_residence|experience_level|\n",
      "+--------------+------------------+----------------+\n",
      "|9272          |KE                |null            |\n",
      "|85000         |RU                |null            |\n",
      "|99100         |US                |middle          |\n",
      "|99703         |CA                |senior          |\n",
      "+--------------+------------------+----------------+\n",
      "\n"
     ]
    }
   ],
   "source": [
    "df_new_best.show(truncate=False)"
   ]
  },
  {
   "cell_type": "markdown",
   "id": "mineral-status",
   "metadata": {},
   "source": [
    "write df_new_best like 1.csv and load then it to df_final"
   ]
  },
  {
   "cell_type": "code",
   "execution_count": 25,
   "id": "baking-progress",
   "metadata": {},
   "outputs": [],
   "source": [
    "df_new_best.write \\\n",
    "    .option('header', True) \\\n",
    "    .mode('overwrite') \\\n",
    "    .csv('../data/1.csv')"
   ]
  },
  {
   "cell_type": "code",
   "execution_count": 26,
   "outputs": [],
   "source": [
    "df_final = spark.read \\\n",
    "    .option('header', True) \\\n",
    "    .csv('../data/1.csv')"
   ],
   "metadata": {
    "collapsed": false
   }
  },
  {
   "cell_type": "markdown",
   "id": "vocal-shooting",
   "metadata": {},
   "source": [
    "print df_final"
   ]
  },
  {
   "cell_type": "code",
   "execution_count": 27,
   "id": "expired-viewer",
   "metadata": {},
   "outputs": [
    {
     "name": "stdout",
     "output_type": "stream",
     "text": [
      "+--------------+------------------+----------------+\n",
      "|biggest_salary|employee_residence|experience_level|\n",
      "+--------------+------------------+----------------+\n",
      "|9272          |KE                |null            |\n",
      "|85000         |RU                |null            |\n",
      "|99100         |US                |middle          |\n",
      "|99703         |CA                |senior          |\n",
      "+--------------+------------------+----------------+\n",
      "\n"
     ]
    }
   ],
   "source": [
    "df_final.show(truncate=False)"
   ]
  },
  {
   "cell_type": "markdown",
   "id": "nutritional-progress",
   "metadata": {},
   "source": [
    "filter df_final to delete experience_level where it Null, then join this table by biggest_salary(salary_in_usd) and employee_residence with entire df"
   ]
  },
  {
   "cell_type": "code",
   "execution_count": 28,
   "id": "small-polymer",
   "metadata": {},
   "outputs": [],
   "source": [
    "df_final = df_final \\\n",
    "    .dropna(subset='experience_level') \\\n",
    "    .join(df, (df_final.biggest_salary == df.salary_in_usd) & (df_final.employee_residence == df.employee_residence))"
   ]
  },
  {
   "cell_type": "markdown",
   "id": "variable-twins",
   "metadata": {},
   "source": [
    "print df_final"
   ]
  },
  {
   "cell_type": "code",
   "execution_count": 29,
   "id": "generic-block",
   "metadata": {},
   "outputs": [
    {
     "name": "stdout",
     "output_type": "stream",
     "text": [
      "22/12/23 22:00:54 WARN CSVHeaderChecker: CSV header does not conform to the schema.\n",
      " Header: , work_year, experience_level, employment_type, job_title, salary, salary_currency, salary_in_usd, employee_residence, remote_ratio, company_location, company_size\n",
      " Schema: id, work_year, experience_level, employment_type, job_title, salary, salary_currency, salary_in_usd, employee_residence, remote_ratio, company_location, company_size\n",
      "Expected: id but found: \n",
      "CSV file: file:///home/konstantin/Projects/de/spark-demo/data/ds_salaries.csv\n",
      "+--------------+------------------+----------------+---+---------+----------------+---------------+------------------+------+---------------+-------------+------------------+------------+----------------+------------+\n",
      "|biggest_salary|employee_residence|experience_level|id |work_year|experience_level|employment_type|job_title         |salary|salary_currency|salary_in_usd|employee_residence|remote_ratio|company_location|company_size|\n",
      "+--------------+------------------+----------------+---+---------+----------------+---------------+------------------+------+---------------+-------------+------------------+------------+----------------+------------+\n",
      "|99703         |CA                |senior          |255|2021     |SE              |FT             |Big Data Architect|125000|CAD            |99703        |CA                |50          |CA              |M           |\n",
      "|99100         |US                |middle          |543|2022     |MI              |FT             |Data Engineer     |99100 |USD            |99100        |US                |0           |US              |M           |\n",
      "+--------------+------------------+----------------+---+---------+----------------+---------------+------------------+------+---------------+-------------+------------------+------------+----------------+------------+\n",
      "\n"
     ]
    }
   ],
   "source": [
    "df_final.show(truncate=False)"
   ]
  },
  {
   "cell_type": "markdown",
   "id": "variable-moore",
   "metadata": {},
   "source": [
    "last task is to save in variable and then print this variable of the biggest salary_in_usd from df_final"
   ]
  },
  {
   "cell_type": "code",
   "execution_count": 30,
   "id": "individual-institution",
   "metadata": {},
   "outputs": [
    {
     "data": {
      "text/plain": "'99703'"
     },
     "execution_count": 30,
     "metadata": {},
     "output_type": "execute_result"
    }
   ],
   "source": [
    "biggest_salary = df_final.select(max('biggest_salary')).collect()[0][0]\n",
    "biggest_salary"
   ]
  },
  {
   "cell_type": "markdown",
   "id": "stopped-procedure",
   "metadata": {},
   "source": [
    "It is the end of PySpark basics. In other lessons you will learn optimizations technics and how to make distributed system"
   ]
  }
 ],
 "metadata": {
  "kernelspec": {
   "display_name": "Python 3",
   "language": "python",
   "name": "python3"
  },
  "language_info": {
   "codemirror_mode": {
    "name": "ipython",
    "version": 3
   },
   "file_extension": ".py",
   "mimetype": "text/x-python",
   "name": "python",
   "nbconvert_exporter": "python",
   "pygments_lexer": "ipython3",
   "version": "3.9.2"
  }
 },
 "nbformat": 4,
 "nbformat_minor": 5
}
