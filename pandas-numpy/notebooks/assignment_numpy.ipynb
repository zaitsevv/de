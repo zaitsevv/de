{
 "cells": [
  {
   "cell_type": "markdown",
   "id": "d3df79dd",
   "metadata": {},
   "source": [
    "## Упражнения по библиотеке Numpy"
   ]
  },
  {
   "cell_type": "code",
   "execution_count": 2,
   "outputs": [],
   "source": [
    "import math\n",
    "import time\n",
    "import numpy as np\n",
    "from scipy import spatial"
   ],
   "metadata": {
    "collapsed": false
   }
  },
  {
   "cell_type": "code",
   "execution_count": 3,
   "outputs": [],
   "source": [
    "def random_array(fr=-10, t=10, size=10):\n",
    "    return np.random.randint(fr, t, size=size)"
   ],
   "metadata": {
    "collapsed": false
   }
  },
  {
   "cell_type": "markdown",
   "id": "03727b7c",
   "metadata": {},
   "source": [
    "**1.** Дан случайный массив, поменять знак у элементов, значения которых между 3 и 8"
   ]
  },
  {
   "cell_type": "code",
   "execution_count": 4,
   "id": "b89a7523",
   "metadata": {},
   "outputs": [
    {
     "name": "stdout",
     "output_type": "stream",
     "text": [
      "[-4  2  1  5  2  3 -6  2 -9 -7]\n"
     ]
    },
    {
     "data": {
      "text/plain": "array([-4,  2,  1, -5,  2,  3, -6,  2, -9, -7])"
     },
     "execution_count": 4,
     "metadata": {},
     "output_type": "execute_result"
    }
   ],
   "source": [
    "array = random_array()\n",
    "print(array)\n",
    "array = np.where(np.logical_and(array > 3, array < 8), array * -1, array)\n",
    "array"
   ]
  },
  {
   "cell_type": "markdown",
   "id": "5fa4abda",
   "metadata": {},
   "source": [
    "**2.** Заменить максимальный элемент случайного массива на 0"
   ]
  },
  {
   "cell_type": "code",
   "execution_count": 5,
   "id": "f2788a6e",
   "metadata": {},
   "outputs": [
    {
     "name": "stdout",
     "output_type": "stream",
     "text": [
      "[ 4  3 -1  4 -5  6  9 -6  7  5]\n"
     ]
    },
    {
     "data": {
      "text/plain": "array([ 4,  3, -1,  4, -5,  6,  0, -6,  7,  5])"
     },
     "execution_count": 5,
     "metadata": {},
     "output_type": "execute_result"
    }
   ],
   "source": [
    "array = random_array()\n",
    "print(array)\n",
    "array[array == max(array)] = 0\n",
    "array"
   ]
  },
  {
   "cell_type": "markdown",
   "id": "3cac656b",
   "metadata": {},
   "source": [
    "**3.** Построить прямое произведение массивов (все комбинации с каждым элементом). На вход подается двумерный массив"
   ]
  },
  {
   "cell_type": "code",
   "execution_count": 6,
   "id": "3396b764",
   "metadata": {},
   "outputs": [
    {
     "data": {
      "text/plain": "array([[1, 4],\n       [1, 5],\n       [1, 6],\n       [2, 4],\n       [2, 5],\n       [2, 6],\n       [3, 4],\n       [3, 5],\n       [3, 6]])"
     },
     "execution_count": 6,
     "metadata": {},
     "output_type": "execute_result"
    }
   ],
   "source": [
    "def cartesian(arrays):\n",
    "    arrays = [np.asarray(arr) for arr in arrays]\n",
    "    shape = map(len, arrays)\n",
    "    idx = np.indices(shape, dtype=int)\n",
    "    idx = idx.reshape(len(arrays), -1).T\n",
    "    for n, arr in enumerate(arrays):\n",
    "        idx[:, n] = arrays[n][idx[:, n]]\n",
    "    return idx\n",
    "\n",
    "\n",
    "cartesian([[1, 2, 3], [4, 5, 6]])"
   ]
  },
  {
   "cell_type": "markdown",
   "id": "674c9354",
   "metadata": {},
   "source": [
    "**4.** Даны 2 массива A (8x3) и B (2x2). Найти строки в A, которые содержат элементы из каждой строки в B, независимо от порядка элементов в B"
   ]
  },
  {
   "cell_type": "code",
   "execution_count": 7,
   "id": "cb664782",
   "metadata": {},
   "outputs": [
    {
     "name": "stdout",
     "output_type": "stream",
     "text": [
      "[[  8  -2  -8]\n",
      " [  7   8  -3]\n",
      " [-10  -3   5]\n",
      " [  9  -8  -2]\n",
      " [ -5  -8 -10]\n",
      " [  2   3   1]\n",
      " [  0  -8  -6]\n",
      " [ -6  -2   5]]\n",
      "[[-4 -5]\n",
      " [ 9  5]]\n"
     ]
    },
    {
     "data": {
      "text/plain": "array([], shape=(0, 3), dtype=int64)"
     },
     "execution_count": 7,
     "metadata": {},
     "output_type": "execute_result"
    }
   ],
   "source": [
    "a = random_array(size=(8, 3))\n",
    "print(a)\n",
    "b = random_array(size=(2, 2))\n",
    "print(b)\n",
    "mask = [np.isin(row, b[0]).any() and np.isin(row, b[1]).any() for row in a]\n",
    "a[mask]"
   ]
  },
  {
   "cell_type": "markdown",
   "id": "fa46533b",
   "metadata": {},
   "source": [
    "**5.** Дана 10x3 матрица, найти строки из неравных значений (например строка [2,2,3] остается, строка [3,3,3] удаляется)"
   ]
  },
  {
   "cell_type": "code",
   "execution_count": 8,
   "id": "fa545b23",
   "metadata": {},
   "outputs": [
    {
     "name": "stdout",
     "output_type": "stream",
     "text": [
      "[[2 1 1]\n",
      " [1 2 1]\n",
      " [1 2 1]\n",
      " [2 1 2]\n",
      " [1 1 2]\n",
      " [1 1 1]\n",
      " [1 2 2]\n",
      " [1 1 1]\n",
      " [1 2 2]\n",
      " [1 2 1]]\n"
     ]
    },
    {
     "data": {
      "text/plain": "array([[2, 1, 1],\n       [1, 2, 1],\n       [1, 2, 1],\n       [2, 1, 2],\n       [1, 1, 2],\n       [1, 2, 2],\n       [1, 2, 2],\n       [1, 2, 1]])"
     },
     "execution_count": 8,
     "metadata": {},
     "output_type": "execute_result"
    }
   ],
   "source": [
    "matrix = random_array(fr=1, t=3, size=(10, 3))\n",
    "print(matrix)\n",
    "to_delete = np.logical_and.reduce(matrix[:, 1:] == matrix[:, :-1], axis=1)\n",
    "matrix[~to_delete]"
   ]
  },
  {
   "cell_type": "markdown",
   "id": "28f0d116",
   "metadata": {},
   "source": [
    "**6.** Дан двумерный массив. Удалить те строки, которые повторяются"
   ]
  },
  {
   "cell_type": "code",
   "execution_count": 9,
   "id": "83d2c0b7",
   "metadata": {},
   "outputs": [
    {
     "name": "stdout",
     "output_type": "stream",
     "text": [
      "[[2 1 2]\n",
      " [2 2 2]\n",
      " [2 1 1]\n",
      " [1 2 2]\n",
      " [1 1 1]\n",
      " [1 1 1]\n",
      " [1 1 1]\n",
      " [1 1 2]\n",
      " [2 2 1]\n",
      " [1 2 2]]\n"
     ]
    },
    {
     "data": {
      "text/plain": "array([[1, 1, 1],\n       [1, 1, 2],\n       [1, 2, 2],\n       [2, 1, 1],\n       [2, 1, 2],\n       [2, 2, 1],\n       [2, 2, 2]])"
     },
     "execution_count": 9,
     "metadata": {},
     "output_type": "execute_result"
    }
   ],
   "source": [
    "matrix = random_array(fr=1, t=3, size=(10, 3))\n",
    "print(matrix)\n",
    "np.unique(matrix, axis=0)"
   ]
  },
  {
   "cell_type": "markdown",
   "id": "6daa9e37",
   "metadata": {},
   "source": [
    "______\n",
    "______"
   ]
  },
  {
   "cell_type": "markdown",
   "id": "cfbfcaff",
   "metadata": {},
   "source": [
    "Для каждой из следующих задач (1-5) нужно привести 2 реализации – одна без использования numpy (cчитайте, что там, где на входе или выходе должны быть numpy array, будут просто списки), а вторая полностью векторизованная с использованием numpy (без использования питоновских циклов/map/list comprehension).\n",
    "\n",
    "\n",
    "__Замечание 1.__ Можно считать, что все указанные объекты непустые (к примеру, в __задаче 1__ на диагонали матрицы есть ненулевые элементы).\n",
    "\n",
    "__Замечание 2.__ Для большинства задач решение занимает не больше 1-2 строк."
   ]
  },
  {
   "cell_type": "markdown",
   "id": "673cac7f",
   "metadata": {},
   "source": [
    "___"
   ]
  },
  {
   "cell_type": "markdown",
   "id": "ca6f585e",
   "metadata": {},
   "source": [
    "* __Задача 1__: Подсчитать произведение ненулевых элементов на диагонали прямоугольной матрицы.  \n",
    " Например, для X = np.array([[1, 0, 1], [2, 0, 2], [3, 0, 3], [4, 4, 4]]) ответ 3."
   ]
  },
  {
   "cell_type": "code",
   "execution_count": 10,
   "id": "065862fc",
   "metadata": {},
   "outputs": [
    {
     "data": {
      "text/plain": "3"
     },
     "execution_count": 10,
     "metadata": {},
     "output_type": "execute_result"
    }
   ],
   "source": [
    "x = [[1, 0, 1], [2, 0, 2], [3, 0, 3], [4, 4, 4]]\n",
    "prod = 1\n",
    "for i in range(len(x)):\n",
    "    for j in range(len(x[i])):\n",
    "        if i == j and x[i][j] != 0:\n",
    "            prod *= x[i][j]\n",
    "prod"
   ]
  },
  {
   "cell_type": "code",
   "execution_count": 11,
   "outputs": [
    {
     "data": {
      "text/plain": "3"
     },
     "execution_count": 11,
     "metadata": {},
     "output_type": "execute_result"
    }
   ],
   "source": [
    "x = np.array([[1, 0, 1], [2, 0, 2], [3, 0, 3], [4, 4, 4]])\n",
    "diag = x.diagonal()\n",
    "prod = np.prod(diag[diag != 0])\n",
    "prod"
   ],
   "metadata": {
    "collapsed": false
   }
  },
  {
   "cell_type": "markdown",
   "id": "9fc51d41",
   "metadata": {},
   "source": [
    "* __Задача 2__: Даны два вектора x и y. Проверить, задают ли они одно и то же мультимножество.  \n",
    "  Например, для x = np.array([1, 2, 2, 4]), y = np.array([4, 2, 1, 2]) ответ True."
   ]
  },
  {
   "cell_type": "code",
   "execution_count": 12,
   "id": "a809e02f",
   "metadata": {},
   "outputs": [
    {
     "data": {
      "text/plain": "True"
     },
     "execution_count": 12,
     "metadata": {},
     "output_type": "execute_result"
    }
   ],
   "source": [
    "x = [1, 2, 2, 4]\n",
    "y = [4, 2, 1, 2]\n",
    "sorted(x) == sorted(y)"
   ]
  },
  {
   "cell_type": "code",
   "execution_count": 13,
   "outputs": [
    {
     "data": {
      "text/plain": "True"
     },
     "execution_count": 13,
     "metadata": {},
     "output_type": "execute_result"
    }
   ],
   "source": [
    "x = np.array([1, 2, 2, 4])\n",
    "y = np.array([4, 2, 1, 2])\n",
    "np.array_equal(x.sort(), y.sort())"
   ],
   "metadata": {
    "collapsed": false
   }
  },
  {
   "cell_type": "markdown",
   "id": "b9c185c7",
   "metadata": {},
   "source": [
    "* __Задача 3__: Найти максимальный элемент в векторе x среди элементов, перед которыми стоит ноль. \n",
    " Например, для x = np.array([6, 2, 0, 3, 0, 0, 5, 7, 0]) ответ 5."
   ]
  },
  {
   "cell_type": "code",
   "execution_count": 14,
   "id": "b57df008",
   "metadata": {},
   "outputs": [
    {
     "data": {
      "text/plain": "5"
     },
     "execution_count": 14,
     "metadata": {},
     "output_type": "execute_result"
    }
   ],
   "source": [
    "x = [6, 2, 0, 3, 0, 0, 5, 7, 0]\n",
    "maximum = float('-inf')\n",
    "for i in range(len(x) - 1):\n",
    "    if x[i] == 0 and maximum < x[i + 1]:\n",
    "        maximum = x[i + 1]\n",
    "maximum"
   ]
  },
  {
   "cell_type": "code",
   "execution_count": 15,
   "outputs": [
    {
     "data": {
      "text/plain": "5"
     },
     "execution_count": 15,
     "metadata": {},
     "output_type": "execute_result"
    }
   ],
   "source": [
    "x = np.array([6, 2, 0, 3, 0, 0, 5, 7, 0])\n",
    "is_zero = x == 0\n",
    "x[1:][is_zero[:-1]].max()"
   ],
   "metadata": {
    "collapsed": false
   }
  },
  {
   "cell_type": "markdown",
   "id": "480be4ce",
   "metadata": {},
   "source": [
    "* __Задача 4__: Реализовать кодирование длин серий (Run-length encoding). Для некоторого вектора x необходимо вернуть кортеж из двух векторов одинаковой длины. Первый содержит числа, а второй - сколько раз их нужно повторить.  \n",
    " Например, для x = np.array([2, 2, 2, 3, 3, 3, 5]) ответ (np.array([2, 3, 5]), np.array([3, 3, 1]))."
   ]
  },
  {
   "cell_type": "code",
   "execution_count": 16,
   "id": "3c592124",
   "metadata": {},
   "outputs": [
    {
     "data": {
      "text/plain": "([2, 3, 5], [3, 3, 1])"
     },
     "execution_count": 16,
     "metadata": {},
     "output_type": "execute_result"
    }
   ],
   "source": [
    "x = [2, 2, 2, 3, 3, 3, 5]\n",
    "nums = [x[0]]\n",
    "counts = [0]\n",
    "for i in range(len(x)):\n",
    "    if nums[-1] != x[i]:\n",
    "        nums.append(x[i])\n",
    "        counts.append(1)\n",
    "    else:\n",
    "        counts[-1] += 1\n",
    "\n",
    "(nums, counts)"
   ]
  },
  {
   "cell_type": "code",
   "execution_count": 17,
   "outputs": [
    {
     "data": {
      "text/plain": "(array([2, 3, 5]), array([3, 3, 1]))"
     },
     "execution_count": 17,
     "metadata": {},
     "output_type": "execute_result"
    }
   ],
   "source": [
    "x = np.array([2, 2, 2, 3, 3, 3, 5, ])\n",
    "np.unique(x, return_counts=True)"
   ],
   "metadata": {
    "collapsed": false
   }
  },
  {
   "cell_type": "markdown",
   "id": "077532ec",
   "metadata": {},
   "source": [
    "* __Задача 5__: Даны две выборки объектов - X и Y. Вычислить матрицу евклидовых расстояний между объектами. Сравните с функцией scipy.spatial.distance.cdist по скорости работы."
   ]
  },
  {
   "cell_type": "code",
   "execution_count": 18,
   "outputs": [
    {
     "data": {
      "text/plain": "array([[0, 2, 7],\n       [7, 6, 4],\n       [2, 9, 7]])"
     },
     "execution_count": 18,
     "metadata": {},
     "output_type": "execute_result"
    }
   ],
   "source": [
    "random_array(0, 10, (3, 3))"
   ],
   "metadata": {
    "collapsed": false
   }
  },
  {
   "cell_type": "code",
   "execution_count": 19,
   "outputs": [
    {
     "name": "stdout",
     "output_type": "stream",
     "text": [
      "[[9, 1], [3, 7], [3, 0]]\n",
      "[[2, 9], [2, 1], [7, 4]]\n"
     ]
    },
    {
     "data": {
      "text/plain": "([[10.63, 2.24, 9.06], [7.0, 6.08, 1.41], [3.61, 5.0, 5.66]],\n 0.00016307830810546875)"
     },
     "execution_count": 19,
     "metadata": {},
     "output_type": "execute_result"
    }
   ],
   "source": [
    "x = random_array(0, 10, (3, 2)).tolist()\n",
    "print(x)\n",
    "y = random_array(0, 10, (3, 2)).tolist()\n",
    "print(y)\n",
    "start = time.time()\n",
    "result = []\n",
    "dim = len(x[0])\n",
    "for j in range(len(y)):\n",
    "    result.append([])\n",
    "    for i in range(len(x)):\n",
    "        s = 0\n",
    "        for k in range(dim):\n",
    "            s += (x[i][k] - y[j][k]) ** 2\n",
    "        result[j].append(round(math.sqrt(s), 2))\n",
    "end = time.time()\n",
    "(result, end - start)"
   ],
   "metadata": {
    "collapsed": false
   }
  },
  {
   "cell_type": "code",
   "execution_count": 20,
   "outputs": [
    {
     "name": "stdout",
     "output_type": "stream",
     "text": [
      "[[9 9]\n",
      " [3 0]\n",
      " [9 5]]\n",
      "[[3 7]\n",
      " [1 9]\n",
      " [0 6]]\n"
     ]
    },
    {
     "data": {
      "text/plain": "(array([[6.32, 8.  , 9.49],\n        [7.  , 9.22, 6.71],\n        [6.32, 8.94, 9.06]]),\n 0.00019478797912597656)"
     },
     "execution_count": 20,
     "metadata": {},
     "output_type": "execute_result"
    }
   ],
   "source": [
    "x = random_array(0, 10, (3, 2))\n",
    "print(x)\n",
    "y = random_array(0, 10, (3, 2))\n",
    "print(y)\n",
    "start = time.time()\n",
    "x1 = np.repeat(x, len(y), axis=0).reshape(len(x), -1, 2)\n",
    "y1 = np.repeat(y, len(x), axis=0).reshape(len(y), -1, 2).transpose(1, 0, 2)\n",
    "result = np.sqrt(np.sum((x1 - y1) ** 2, axis=2)).round(2)\n",
    "end = time.time()\n",
    "(result, end - start)"
   ],
   "metadata": {
    "collapsed": false
   }
  },
  {
   "cell_type": "code",
   "execution_count": 21,
   "outputs": [
    {
     "name": "stdout",
     "output_type": "stream",
     "text": [
      "[[5 3]\n",
      " [2 5]\n",
      " [8 4]]\n",
      "[[5 7]\n",
      " [1 4]\n",
      " [6 2]]\n"
     ]
    },
    {
     "data": {
      "text/plain": "(array([[4.        , 4.12310563, 1.41421356],\n        [3.60555128, 1.41421356, 5.        ],\n        [4.24264069, 7.        , 2.82842712]]),\n 0.00010251998901367188)"
     },
     "execution_count": 21,
     "metadata": {},
     "output_type": "execute_result"
    }
   ],
   "source": [
    "x = np.random.randint(0, 10, (3, 2))\n",
    "print(x)\n",
    "y = np.random.randint(0, 10, (3, 2))\n",
    "print(y)\n",
    "start = time.time()\n",
    "result = spatial.distance.cdist(x, y)\n",
    "end = time.time()\n",
    "(result, end - start)"
   ],
   "metadata": {
    "collapsed": false
   }
  },
  {
   "cell_type": "markdown",
   "id": "973e8064",
   "metadata": {},
   "source": [
    "_______\n",
    "________"
   ]
  },
  {
   "cell_type": "markdown",
   "id": "1104acb7",
   "metadata": {},
   "source": [
    "* #### __Задача 6__: CrunchieMunchies __*__\n",
    "\n",
    "Вы работаете в отделе маркетинга пищевой компании MyCrunch, которая разрабатывает новый вид вкусных, полезных злаков под названием **CrunchieMunchies**.\n",
    "\n",
    "Вы хотите продемонстрировать потребителям, насколько полезны ваши хлопья по сравнению с другими ведущими брендами, поэтому вы собрали данные о питании нескольких разных конкурентов.\n",
    "\n",
    "Ваша задача - использовать вычисления Numpy для анализа этих данных и доказать, что ваши **СrunchieMunchies** - самый здоровый выбор для потребителей.\n"
   ]
  },
  {
   "cell_type": "markdown",
   "id": "ab87cb03",
   "metadata": {},
   "source": [
    "1. Просмотрите файл cereal.csv. Этот файл содержит количества калорий для различных марок хлопьев. Загрузите данные из файла и сохраните их как calorie_stats."
   ]
  },
  {
   "cell_type": "code",
   "execution_count": 22,
   "id": "9681ebf2",
   "metadata": {},
   "outputs": [
    {
     "data": {
      "text/plain": "array([ 70., 120.,  70.,  50., 110., 110., 110., 130.,  90.,  90., 120.,\n       110., 120., 110., 110., 110., 100., 110., 110., 110., 100., 110.,\n       100., 100., 110., 110., 100., 120., 120., 110., 100., 110., 100.,\n       110., 120., 120., 110., 110., 110., 140., 110., 100., 110., 100.,\n       150., 150., 160., 100., 120., 140.,  90., 130., 120., 100.,  50.,\n        50., 100., 100., 120., 100.,  90., 110., 110.,  80.,  90.,  90.,\n       110., 110.,  90., 110., 140., 100., 110., 110., 100., 100., 110.])"
     },
     "execution_count": 22,
     "metadata": {},
     "output_type": "execute_result"
    }
   ],
   "source": [
    "calorie_stats = np.loadtxt(\"../data/cereal.csv\", delimiter=\",\")\n",
    "calorie_stats"
   ]
  },
  {
   "cell_type": "markdown",
   "id": "139cfbd8",
   "metadata": {},
   "source": [
    "2. В одной порции CrunchieMunchies содержится 60 калорий. Насколько выше среднее количество калорий у ваших конкурентов?\n",
    "\n",
    "Сохраните ответ в переменной average_calories и распечатайте переменную в терминале"
   ]
  },
  {
   "cell_type": "code",
   "execution_count": 23,
   "id": "7036d240",
   "metadata": {},
   "outputs": [
    {
     "data": {
      "text/plain": "47.0"
     },
     "execution_count": 23,
     "metadata": {},
     "output_type": "execute_result"
    }
   ],
   "source": [
    "my_calories = 60.\n",
    "average_calories = np.mean(calorie_stats)\n",
    "delta_calories = np.round(abs(my_calories - average_calories))\n",
    "delta_calories"
   ]
  },
  {
   "cell_type": "markdown",
   "id": "b2ddb4cd",
   "metadata": {},
   "source": [
    "3. Корректно ли среднее количество калорий отражает распределение набора данных? Давайте отсортируем данные и посмотрим.\n",
    "\n",
    "Отсортируйте данные и сохраните результат в переменной calorie_stats_sorted. Распечатайте отсортированную информацию"
   ]
  },
  {
   "cell_type": "code",
   "execution_count": 24,
   "id": "46eeb4ed",
   "metadata": {},
   "outputs": [
    {
     "data": {
      "text/plain": "array([ 50.,  50.,  50.,  70.,  70.,  80.,  90.,  90.,  90.,  90.,  90.,\n        90.,  90., 100., 100., 100., 100., 100., 100., 100., 100., 100.,\n       100., 100., 100., 100., 100., 100., 100., 100., 110., 110., 110.,\n       110., 110., 110., 110., 110., 110., 110., 110., 110., 110., 110.,\n       110., 110., 110., 110., 110., 110., 110., 110., 110., 110., 110.,\n       110., 110., 110., 110., 120., 120., 120., 120., 120., 120., 120.,\n       120., 120., 120., 130., 130., 140., 140., 140., 150., 150., 160.])"
     },
     "execution_count": 24,
     "metadata": {},
     "output_type": "execute_result"
    }
   ],
   "source": [
    "calorie_stats_sorted = np.sort(calorie_stats)\n",
    "calorie_stats_sorted"
   ]
  },
  {
   "cell_type": "markdown",
   "id": "4dc74116",
   "metadata": {},
   "source": [
    "4. Похоже, что большинство значений выше среднего. Давайте посмотрим, является ли медиана наиболее корректным показателем набора данных.\n",
    "\n",
    "Вычислите медиану набора данных и сохраните свой ответ в median_calories. Выведите медиану, чтобы вы могли видеть, как она сравнивается со средним значением."
   ]
  },
  {
   "cell_type": "code",
   "execution_count": 25,
   "id": "b56627c3",
   "metadata": {},
   "outputs": [
    {
     "data": {
      "text/plain": "110.0"
     },
     "execution_count": 25,
     "metadata": {},
     "output_type": "execute_result"
    }
   ],
   "source": [
    "median_calories = np.median(calorie_stats)\n",
    "median_calories"
   ]
  },
  {
   "cell_type": "markdown",
   "id": "a63ab72f",
   "metadata": {},
   "source": [
    "5. В то время как медиана показывает, что по крайней мере половина наших значений составляет более 100 калорий, было бы более впечатляюще показать, что значительная часть конкурентов имеет более высокое количество калорий, чем CrunchieMunchies.\n",
    "\n",
    "Рассчитайте различные процентили и распечатайте их, пока не найдете наименьший процентиль, превышающий 60 калорий. Сохраните это значение в переменной nth_percentile."
   ]
  },
  {
   "cell_type": "code",
   "execution_count": 26,
   "id": "fe80ce03",
   "metadata": {},
   "outputs": [
    {
     "data": {
      "text/plain": "4"
     },
     "execution_count": 26,
     "metadata": {},
     "output_type": "execute_result"
    }
   ],
   "source": [
    "for i in range(101):\n",
    "    percentile_value = np.percentile(calorie_stats, i)\n",
    "    if percentile_value > 60:\n",
    "        nth_percentile = i\n",
    "        break\n",
    "nth_percentile"
   ]
  },
  {
   "cell_type": "markdown",
   "id": "a2a3c5aa",
   "metadata": {},
   "source": [
    "6. Хотя процентиль показывает нам, что у большинства конкурентов количество калорий намного выше, это неудобная концепция для использования в маркетинговых материалах.\n",
    "\n",
    "Вместо этого давайте подсчитаем процент хлопьев, в которых содержится более 60 калорий на порцию. Сохраните свой ответ в переменной more_calories и распечатайте его"
   ]
  },
  {
   "cell_type": "code",
   "execution_count": 27,
   "id": "ade0f6ea",
   "metadata": {},
   "outputs": [
    {
     "data": {
      "text/plain": "96.0"
     },
     "execution_count": 27,
     "metadata": {},
     "output_type": "execute_result"
    }
   ],
   "source": [
    "more_calories = np.round(100*len(calorie_stats[calorie_stats > 60])/len(calorie_stats))\n",
    "more_calories"
   ]
  },
  {
   "cell_type": "markdown",
   "id": "1735d65b",
   "metadata": {},
   "source": [
    "7. Это действительно высокий процент. Это будет очень полезно, когда мы будем продвигать CrunchieMunchies. Но один вопрос заключается в том, насколько велики различия в наборе данных? Можем ли мы сделать обобщение, что в большинстве злаков содержится около 100 калорий или разброс еще больше?\n",
    "\n",
    "Рассчитайте величину отклонения, найдя стандартное отклонение, Сохраните свой ответ в calorie_std и распечатайте на терминале. Как мы можем включить эту ценность в наш анализ?"
   ]
  },
  {
   "cell_type": "code",
   "execution_count": 28,
   "id": "85c8df1f",
   "metadata": {},
   "outputs": [
    {
     "data": {
      "text/plain": "19.35718533390827"
     },
     "execution_count": 28,
     "metadata": {},
     "output_type": "execute_result"
    }
   ],
   "source": [
    "calorie_std = np.std(calorie_stats)\n",
    "calorie_std"
   ]
  },
  {
   "cell_type": "markdown",
   "id": "037455c5",
   "metadata": {},
   "source": [
    "8. Напишите короткий абзац, в котором кратко изложите свои выводы и то, как, по вашему мнению, эти данные могут быть использованы в интересах Mycrunch при маркетинге CrunchieMunchies."
   ]
  },
  {
   "cell_type": "markdown",
   "source": [
    "Калорий меньше, чем у 96% конкурентов\n",
    "\n",
    "Стандартное отклонение в 19.4 каллории говорит об умеренном разбросе данных, следовательно данные равномерны\n",
    "\n",
    "Батончики CrunchieMunchies опережают большинство других конкурентов по уровню каллорийности, при грамотном маркетинге они обречены на успех"
   ],
   "metadata": {
    "collapsed": false
   }
  }
 ],
 "metadata": {
  "kernelspec": {
   "display_name": "Python 3 (ipykernel)",
   "language": "python",
   "name": "python3"
  },
  "language_info": {
   "codemirror_mode": {
    "name": "ipython",
    "version": 3
   },
   "file_extension": ".py",
   "mimetype": "text/x-python",
   "name": "python",
   "nbconvert_exporter": "python",
   "pygments_lexer": "ipython3",
   "version": "3.8.10"
  }
 },
 "nbformat": 4,
 "nbformat_minor": 5
}
